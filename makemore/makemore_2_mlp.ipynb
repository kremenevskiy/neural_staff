{
 "cells": [
  {
   "cell_type": "code",
   "execution_count": 1,
   "id": "5477f1ae",
   "metadata": {
    "ExecuteTime": {
     "end_time": "2023-02-26T21:10:47.243375Z",
     "start_time": "2023-02-26T21:10:46.683816Z"
    }
   },
   "outputs": [],
   "source": [
    "import torch\n",
    "import torch.nn.functional as F\n",
    "import matplotlib.pyplot as plt"
   ]
  },
  {
   "cell_type": "markdown",
   "id": "2ea29652",
   "metadata": {},
   "source": [
    "# Start"
   ]
  },
  {
   "cell_type": "code",
   "execution_count": 4,
   "id": "db76d868",
   "metadata": {
    "ExecuteTime": {
     "end_time": "2023-02-26T21:11:50.226960Z",
     "start_time": "2023-02-26T21:11:50.202165Z"
    }
   },
   "outputs": [
    {
     "name": "stdout",
     "output_type": "stream",
     "text": [
      "len:  32033\n",
      "min len:  2\n",
      "max len:  15\n",
      "['emma', 'olivia', 'ava', 'isabella', 'sophia', 'charlotte', 'mia', 'amelia']\n"
     ]
    }
   ],
   "source": [
    "words = open('names.txt', 'r').read().splitlines()\n",
    "print('len: ', len(words))\n",
    "print('min len: ', min(len(w) for w in words))\n",
    "print('max len: ', max(len(w) for w in words))\n",
    "print(words[:8])"
   ]
  },
  {
   "cell_type": "code",
   "execution_count": 6,
   "id": "793ea248",
   "metadata": {
    "ExecuteTime": {
     "end_time": "2023-02-26T21:11:59.221951Z",
     "start_time": "2023-02-26T21:11:59.209093Z"
    }
   },
   "outputs": [
    {
     "name": "stdout",
     "output_type": "stream",
     "text": [
      "{1: 'a', 2: 'b', 3: 'c', 4: 'd', 5: 'e', 6: 'f', 7: 'g', 8: 'h', 9: 'i', 10: 'j', 11: 'k', 12: 'l', 13: 'm', 14: 'n', 15: 'o', 16: 'p', 17: 'q', 18: 'r', 19: 's', 20: 't', 21: 'u', 22: 'v', 23: 'w', 24: 'x', 25: 'y', 26: 'z', 0: '.'}\n"
     ]
    }
   ],
   "source": [
    "chars = sorted(list(set(''.join(words))))\n",
    "stoi = {s: i+1 for i, s in enumerate(chars)}\n",
    "stoi['.'] = 0\n",
    "itos = {i: s for s, i in stoi.items()}\n",
    "print(itos)"
   ]
  },
  {
   "cell_type": "markdown",
   "id": "dead784c",
   "metadata": {},
   "source": [
    "# Build dataset"
   ]
  },
  {
   "cell_type": "markdown",
   "id": "b0aa8d91",
   "metadata": {},
   "source": [
    "## Look"
   ]
  },
  {
   "cell_type": "code",
   "execution_count": 10,
   "id": "ae9d5041",
   "metadata": {
    "ExecuteTime": {
     "end_time": "2023-02-26T21:16:59.815402Z",
     "start_time": "2023-02-26T21:16:59.805291Z"
    }
   },
   "outputs": [
    {
     "name": "stdout",
     "output_type": "stream",
     "text": [
      "emma\n",
      "... --->  e\n",
      "..e --->  m\n",
      ".em --->  m\n",
      "emm --->  a\n",
      "mma --->  .\n",
      "olivia\n",
      "... --->  o\n",
      "..o --->  l\n",
      ".ol --->  i\n",
      "oli --->  v\n",
      "liv --->  i\n",
      "ivi --->  a\n",
      "via --->  .\n",
      "ava\n",
      "... --->  a\n",
      "..a --->  v\n",
      ".av --->  a\n",
      "ava --->  .\n",
      "isabella\n",
      "... --->  i\n",
      "..i --->  s\n",
      ".is --->  a\n",
      "isa --->  b\n",
      "sab --->  e\n",
      "abe --->  l\n",
      "bel --->  l\n",
      "ell --->  a\n",
      "lla --->  .\n",
      "sophia\n",
      "... --->  s\n",
      "..s --->  o\n",
      ".so --->  p\n",
      "sop --->  h\n",
      "oph --->  i\n",
      "phi --->  a\n",
      "hia --->  .\n"
     ]
    }
   ],
   "source": [
    "block_size = 3 # context length: how many characters we take to predict the next one?\n",
    "X, Y = [], []\n",
    "for w in words[:5]:\n",
    "    print(w)\n",
    "    context = [0] * block_size\n",
    "    for ch in w + '.':\n",
    "        ix = stoi[ch]\n",
    "        X.append(context)\n",
    "        Y.append(ix)\n",
    "        print(''.join(itos[i] for i in context), '---> ', itos[ix])\n",
    "        context = context[1:] + [ix]\n",
    "\n",
    "X = torch.tensor(X)\n",
    "Y = torch.tensor(Y)"
   ]
  },
  {
   "cell_type": "code",
   "execution_count": 11,
   "id": "1824b224",
   "metadata": {
    "ExecuteTime": {
     "end_time": "2023-02-26T21:17:18.011928Z",
     "start_time": "2023-02-26T21:17:17.994292Z"
    }
   },
   "outputs": [
    {
     "data": {
      "text/plain": [
       "(torch.Size([32, 3]), torch.int64, torch.Size([32]), torch.int64)"
      ]
     },
     "execution_count": 11,
     "metadata": {},
     "output_type": "execute_result"
    }
   ],
   "source": [
    "X.shape, X.dtype, Y.shape, Y.dtype"
   ]
  },
  {
   "cell_type": "markdown",
   "id": "c565efbb",
   "metadata": {},
   "source": [
    "# Build embedding vector C"
   ]
  },
  {
   "cell_type": "markdown",
   "id": "155d6796",
   "metadata": {},
   "source": [
    "## Look"
   ]
  },
  {
   "cell_type": "code",
   "execution_count": 14,
   "id": "8767bb6a",
   "metadata": {
    "ExecuteTime": {
     "end_time": "2023-02-26T21:19:14.533574Z",
     "start_time": "2023-02-26T21:19:14.529171Z"
    }
   },
   "outputs": [],
   "source": [
    "C = torch.randn((27, 2))"
   ]
  },
  {
   "cell_type": "code",
   "execution_count": 19,
   "id": "4657e40b",
   "metadata": {
    "ExecuteTime": {
     "end_time": "2023-02-26T21:24:12.586398Z",
     "start_time": "2023-02-26T21:24:12.578081Z"
    }
   },
   "outputs": [
    {
     "name": "stdout",
     "output_type": "stream",
     "text": [
      "tensor([0.9098, 1.3066])\n",
      "tensor([0.9098, 1.3066])\n"
     ]
    }
   ],
   "source": [
    "# same\n",
    "print(C[5])\n",
    "print(F.one_hot(torch.tensor(5), num_classes=27). float() @ C)"
   ]
  },
  {
   "cell_type": "code",
   "execution_count": 22,
   "id": "a28ce12e",
   "metadata": {
    "ExecuteTime": {
     "end_time": "2023-02-26T21:25:17.355276Z",
     "start_time": "2023-02-26T21:25:17.343943Z"
    }
   },
   "outputs": [
    {
     "data": {
      "text/plain": [
       "tensor([[ 0.9098,  1.3066],\n",
       "        [ 0.3383, -0.0162],\n",
       "        [ 1.6817, -0.2518],\n",
       "        [ 1.6817, -0.2518],\n",
       "        [ 1.6817, -0.2518],\n",
       "        [ 1.6817, -0.2518],\n",
       "        [ 1.6817, -0.2518],\n",
       "        [ 1.6817, -0.2518]])"
      ]
     },
     "execution_count": 22,
     "metadata": {},
     "output_type": "execute_result"
    }
   ],
   "source": [
    "C[torch.tensor([5,6,7,7,7,7,7,7])]"
   ]
  },
  {
   "cell_type": "code",
   "execution_count": 25,
   "id": "7527976f",
   "metadata": {
    "ExecuteTime": {
     "end_time": "2023-02-26T21:26:15.542578Z",
     "start_time": "2023-02-26T21:26:15.534740Z"
    }
   },
   "outputs": [
    {
     "name": "stdout",
     "output_type": "stream",
     "text": [
      "X shape:  torch.Size([32, 3])\n",
      "C shape:  torch.Size([27, 2])\n"
     ]
    },
    {
     "data": {
      "text/plain": [
       "torch.Size([32, 3, 2])"
      ]
     },
     "execution_count": 25,
     "metadata": {},
     "output_type": "execute_result"
    }
   ],
   "source": [
    "print('X shape: ', X.shape)\n",
    "print('C shape: ', C.shape)\n",
    "C[X].shape"
   ]
  },
  {
   "cell_type": "code",
   "execution_count": 27,
   "id": "da60a6c0",
   "metadata": {
    "ExecuteTime": {
     "end_time": "2023-02-26T21:27:51.463130Z",
     "start_time": "2023-02-26T21:27:51.452769Z"
    }
   },
   "outputs": [
    {
     "name": "stdout",
     "output_type": "stream",
     "text": [
      "tensor(1)\n",
      "tensor([-0.6433, -1.2159])\n",
      "tensor([-0.6433, -1.2159])\n"
     ]
    }
   ],
   "source": [
    "print(X[13, 2])\n",
    "# same\n",
    "print(C[X][13, 2])\n",
    "print(C[1])"
   ]
  },
  {
   "cell_type": "markdown",
   "id": "a3ebbb04",
   "metadata": {},
   "source": [
    "### embedding them"
   ]
  },
  {
   "cell_type": "code",
   "execution_count": 54,
   "id": "407d667b",
   "metadata": {
    "ExecuteTime": {
     "end_time": "2023-02-26T22:33:47.344849Z",
     "start_time": "2023-02-26T22:33:47.335569Z"
    }
   },
   "outputs": [
    {
     "data": {
      "text/plain": [
       "torch.Size([32, 3, 2])"
      ]
     },
     "execution_count": 54,
     "metadata": {},
     "output_type": "execute_result"
    }
   ],
   "source": [
    "emb = C[X]\n",
    "emb.shape"
   ]
  },
  {
   "cell_type": "code",
   "execution_count": 57,
   "id": "22ea849e",
   "metadata": {
    "ExecuteTime": {
     "end_time": "2023-02-26T22:33:59.849600Z",
     "start_time": "2023-02-26T22:33:59.843033Z"
    }
   },
   "outputs": [],
   "source": [
    "W1 = torch.randn((6, 100))\n",
    "b1 = torch.randn(100)"
   ]
  },
  {
   "cell_type": "code",
   "execution_count": 60,
   "id": "385b4c8a",
   "metadata": {
    "ExecuteTime": {
     "end_time": "2023-02-26T22:35:39.745993Z",
     "start_time": "2023-02-26T22:35:39.725190Z"
    }
   },
   "outputs": [
    {
     "name": "stdout",
     "output_type": "stream",
     "text": [
      "torch.Size([32, 100])\n"
     ]
    }
   ],
   "source": [
    "h = torch.tanh(emb.view(-1, 6) @ W1 + b1)\n",
    "print(h.shape)"
   ]
  },
  {
   "cell_type": "code",
   "execution_count": 61,
   "id": "459b2573",
   "metadata": {
    "ExecuteTime": {
     "end_time": "2023-02-26T22:35:46.358996Z",
     "start_time": "2023-02-26T22:35:46.348276Z"
    }
   },
   "outputs": [
    {
     "data": {
      "text/plain": [
       "tensor([[-0.9751,  0.8458,  0.7995,  ..., -0.1519,  0.3314,  0.9277],\n",
       "        [-0.5011,  0.2801,  0.9468,  ..., -0.1555, -0.8865, -0.3458],\n",
       "        [-0.0930,  0.8006, -0.4417,  ..., -0.9978,  0.7902, -0.9966],\n",
       "        ...,\n",
       "        [ 0.1158,  0.7835,  0.1399,  ..., -0.9488, -0.9535,  0.9761],\n",
       "        [-0.9725,  0.4727,  0.9983,  ..., -0.1849, -0.9732,  0.5026],\n",
       "        [-0.9570,  0.2211, -0.9979,  ..., -0.7776,  0.5148, -0.4673]])"
      ]
     },
     "execution_count": 61,
     "metadata": {},
     "output_type": "execute_result"
    }
   ],
   "source": [
    "h"
   ]
  },
  {
   "cell_type": "code",
   "execution_count": 62,
   "id": "b60eef6b",
   "metadata": {
    "ExecuteTime": {
     "end_time": "2023-02-26T22:37:04.934149Z",
     "start_time": "2023-02-26T22:37:04.929380Z"
    }
   },
   "outputs": [],
   "source": [
    "W2 = torch.randn((100, 27))\n",
    "b2 = torch.randn(27)"
   ]
  },
  {
   "cell_type": "code",
   "execution_count": 64,
   "id": "e6f77466",
   "metadata": {
    "ExecuteTime": {
     "end_time": "2023-02-26T22:37:22.021799Z",
     "start_time": "2023-02-26T22:37:22.008143Z"
    }
   },
   "outputs": [
    {
     "data": {
      "text/plain": [
       "torch.Size([32, 27])"
      ]
     },
     "execution_count": 64,
     "metadata": {},
     "output_type": "execute_result"
    }
   ],
   "source": [
    "logits = h @ W2 + b2\n",
    "logits.shape"
   ]
  },
  {
   "cell_type": "code",
   "execution_count": 68,
   "id": "9c407c01",
   "metadata": {
    "ExecuteTime": {
     "end_time": "2023-02-26T22:38:41.584547Z",
     "start_time": "2023-02-26T22:38:41.577082Z"
    }
   },
   "outputs": [
    {
     "name": "stdout",
     "output_type": "stream",
     "text": [
      "tensor(1.0000)\n"
     ]
    }
   ],
   "source": [
    "counts = logits.exp()\n",
    "prob = counts / counts.sum(1, keepdim=True)\n",
    "print(prob[0].sum())"
   ]
  },
  {
   "cell_type": "code",
   "execution_count": 70,
   "id": "0e6facff",
   "metadata": {
    "ExecuteTime": {
     "end_time": "2023-02-26T22:39:56.392060Z",
     "start_time": "2023-02-26T22:39:56.382897Z"
    }
   },
   "outputs": [
    {
     "data": {
      "text/plain": [
       "tensor([ 5, 13, 13,  1,  0, 15, 12,  9, 22,  9,  1,  0,  1, 22,  1,  0,  9, 19,\n",
       "         1,  2,  5, 12, 12,  1,  0, 19, 15, 16,  8,  9,  1,  0])"
      ]
     },
     "execution_count": 70,
     "metadata": {},
     "output_type": "execute_result"
    }
   ],
   "source": [
    "Y"
   ]
  },
  {
   "cell_type": "code",
   "execution_count": 73,
   "id": "32889d81",
   "metadata": {
    "ExecuteTime": {
     "end_time": "2023-02-26T22:41:06.194462Z",
     "start_time": "2023-02-26T22:41:06.185280Z"
    }
   },
   "outputs": [
    {
     "data": {
      "text/plain": [
       "tensor(18.7488)"
      ]
     },
     "execution_count": 73,
     "metadata": {},
     "output_type": "execute_result"
    }
   ],
   "source": [
    "loss = - prob[torch.arange(32), Y].log().mean()\n",
    "loss"
   ]
  },
  {
   "cell_type": "markdown",
   "id": "728477c9",
   "metadata": {},
   "source": [
    "## Made more respectable"
   ]
  },
  {
   "cell_type": "code",
   "execution_count": 79,
   "id": "8209cf68",
   "metadata": {
    "ExecuteTime": {
     "end_time": "2023-02-26T22:45:54.713198Z",
     "start_time": "2023-02-26T22:45:54.705126Z"
    }
   },
   "outputs": [
    {
     "data": {
      "text/plain": [
       "(torch.Size([32, 3]), torch.Size([32]))"
      ]
     },
     "execution_count": 79,
     "metadata": {},
     "output_type": "execute_result"
    }
   ],
   "source": [
    "X.shape, Y.shape"
   ]
  },
  {
   "cell_type": "code",
   "execution_count": 82,
   "id": "a5c0a625",
   "metadata": {
    "ExecuteTime": {
     "end_time": "2023-02-26T22:46:35.871987Z",
     "start_time": "2023-02-26T22:46:35.863143Z"
    }
   },
   "outputs": [
    {
     "name": "stdout",
     "output_type": "stream",
     "text": [
      "num of params:  3481\n"
     ]
    }
   ],
   "source": [
    "g = torch.Generator().manual_seed(2147483647)\n",
    "C = torch.randn((27, 2), generator=g)\n",
    "W1 = torch.randn((6, 100), generator=g)\n",
    "b1 = torch.randn(100, generator=g)\n",
    "W2 = torch.randn((100, 27), generator=g)\n",
    "b2 = torch.randn(27, generator=g)\n",
    "parameters = [C, W1, b1, W2, b2]\n",
    "\n",
    "print('num of params: ', sum(p.nelement() for p in parameters))"
   ]
  },
  {
   "cell_type": "code",
   "execution_count": 83,
   "id": "1e19652f",
   "metadata": {
    "ExecuteTime": {
     "end_time": "2023-02-26T22:46:37.306250Z",
     "start_time": "2023-02-26T22:46:37.295087Z"
    }
   },
   "outputs": [
    {
     "data": {
      "text/plain": [
       "tensor(17.7697)"
      ]
     },
     "execution_count": 83,
     "metadata": {},
     "output_type": "execute_result"
    }
   ],
   "source": [
    "emb = C[X]\n",
    "h = torch.tanh(emb.view(-1, 6) @ W1 + b1)\n",
    "logits = h @ W2 + b2\n",
    "counts = logits.exp()\n",
    "prob = counts / counts.sum(1, keepdim=True)\n",
    "loss = - prob[torch.arange(32), Y].log().mean()\n",
    "loss"
   ]
  },
  {
   "cell_type": "markdown",
   "id": "518ca070",
   "metadata": {},
   "source": [
    "### introducing cross entropy"
   ]
  },
  {
   "cell_type": "code",
   "execution_count": 84,
   "id": "9c0615a0",
   "metadata": {
    "ExecuteTime": {
     "end_time": "2023-02-26T22:47:57.581418Z",
     "start_time": "2023-02-26T22:47:57.572628Z"
    }
   },
   "outputs": [
    {
     "data": {
      "text/plain": [
       "tensor(17.7697)"
      ]
     },
     "execution_count": 84,
     "metadata": {},
     "output_type": "execute_result"
    }
   ],
   "source": [
    "# counts = logits.exp()\n",
    "# prob = counts / counts.sum(1, keepdim=True)\n",
    "# loss = - prob[torch.arange(32), Y].log().mean()\n",
    "\n",
    "# Same as:\n",
    "F.cross_entropy(logits, Y)"
   ]
  },
  {
   "cell_type": "code",
   "execution_count": 106,
   "id": "312e3f4d",
   "metadata": {
    "ExecuteTime": {
     "end_time": "2023-02-26T22:58:00.083129Z",
     "start_time": "2023-02-26T22:58:00.071550Z"
    }
   },
   "outputs": [
    {
     "name": "stdout",
     "output_type": "stream",
     "text": [
      "counts:  tensor([3.7835e-44, 4.9787e-02, 1.0000e+00, 1.4841e+02])\n",
      "probs:  tensor([0.0000e+00, 3.3311e-04, 6.6906e-03, 9.9298e-01])\n"
     ]
    }
   ],
   "source": [
    "logits = torch.tensor([-2, -3, 0, 5]) - 5 # -5 do same\n",
    "logits = torch.tensor([-100, -3, 0, 5])\n",
    "# logits = torch.tensor([-100, -3, 0, 100]) # got inf\n",
    "# logits = torch.tensor([-100, -3, 0, 100]) - 100 # subtract max to make well behavied\n",
    "counts = logits.exp()\n",
    "probs = counts / counts.sum()\n",
    "print('counts: ', counts)\n",
    "print('probs: ', probs)"
   ]
  },
  {
   "cell_type": "markdown",
   "id": "633e74ec",
   "metadata": {},
   "source": [
    "## Make training loop"
   ]
  },
  {
   "cell_type": "code",
   "execution_count": 222,
   "id": "e8e24811",
   "metadata": {
    "ExecuteTime": {
     "end_time": "2023-02-26T23:02:02.956058Z",
     "start_time": "2023-02-26T23:02:02.948246Z"
    }
   },
   "outputs": [
    {
     "data": {
      "text/plain": [
       "(torch.Size([32, 3]), torch.Size([32]))"
      ]
     },
     "execution_count": 222,
     "metadata": {},
     "output_type": "execute_result"
    }
   ],
   "source": [
    "X.shape, Y.shape"
   ]
  },
  {
   "cell_type": "code",
   "execution_count": 223,
   "id": "517c34f7",
   "metadata": {
    "ExecuteTime": {
     "end_time": "2023-02-26T23:02:03.420087Z",
     "start_time": "2023-02-26T23:02:03.408468Z"
    }
   },
   "outputs": [
    {
     "name": "stdout",
     "output_type": "stream",
     "text": [
      "num of params:  3481\n"
     ]
    }
   ],
   "source": [
    "g = torch.Generator().manual_seed(2147483647)\n",
    "C = torch.randn((27, 2), generator=g)\n",
    "W1 = torch.randn((6, 100), generator=g)\n",
    "b1 = torch.randn(100, generator=g)\n",
    "W2 = torch.randn((100, 27), generator=g)\n",
    "b2 = torch.randn(27, generator=g)\n",
    "parameters = [C, W1, b1, W2, b2]\n",
    "\n",
    "print('num of params: ', sum(p.nelement() for p in parameters))"
   ]
  },
  {
   "cell_type": "code",
   "execution_count": 224,
   "id": "8d3cdfa6",
   "metadata": {
    "ExecuteTime": {
     "end_time": "2023-02-26T23:02:05.118474Z",
     "start_time": "2023-02-26T23:02:05.113863Z"
    }
   },
   "outputs": [],
   "source": [
    "for p in parameters:\n",
    "    p.requires_grad = True"
   ]
  },
  {
   "cell_type": "code",
   "execution_count": 233,
   "id": "8ca75ebe",
   "metadata": {
    "ExecuteTime": {
     "end_time": "2023-02-26T23:04:26.386797Z",
     "start_time": "2023-02-26T23:04:26.365356Z"
    }
   },
   "outputs": [
    {
     "name": "stdout",
     "output_type": "stream",
     "text": [
      "loss:  0.35053980350494385\n"
     ]
    }
   ],
   "source": [
    "# overfitting a single batch of the data\n",
    "for _ in range(10):\n",
    "    # forward pass\n",
    "    emb = C[X] # (32, 3, 2)\n",
    "    h = torch.tanh(emb.view(-1, 6) @ W1 + b1) # (32, 100)\n",
    "    logits = h @ W2 + b2 # (32, 27)\n",
    "    loss = F.cross_entropy(logits, Y)\n",
    "\n",
    "    # backward pass\n",
    "    for p in parameters:\n",
    "        p.grad = None\n",
    "    loss.backward()\n",
    "\n",
    "    # update\n",
    "    for p in parameters:\n",
    "        p.data += -0.1 * p.grad\n",
    "        \n",
    "print('loss: ', loss.item())"
   ]
  },
  {
   "cell_type": "markdown",
   "id": "4c203259",
   "metadata": {},
   "source": [
    "<b> Why loss can't be zero </b>"
   ]
  },
  {
   "cell_type": "code",
   "execution_count": 243,
   "id": "e90a7172",
   "metadata": {
    "ExecuteTime": {
     "end_time": "2023-02-26T23:07:02.841270Z",
     "start_time": "2023-02-26T23:07:02.831104Z"
    }
   },
   "outputs": [
    {
     "name": "stdout",
     "output_type": "stream",
     "text": [
      "logits max:  torch.return_types.max(\n",
      "values=tensor([11.2581, 12.8703, 18.8575, 17.3550, 12.4444, 11.2581, 12.8769, 11.4292,\n",
      "        13.4505, 15.5244, 12.3627, 17.5524, 11.2581, 12.4171, 13.6936, 16.8746,\n",
      "        11.2581, 13.6462, 11.1927, 12.9034, 15.7826, 11.9316,  7.7676,  7.6866,\n",
      "        13.7930, 11.2581, 12.8508, 13.5838, 11.2370, 14.1307, 15.4522, 11.8489],\n",
      "       grad_fn=<MaxBackward0>),\n",
      "indices=tensor([ 1, 13, 13,  1,  0,  1, 12,  9, 22,  9,  1,  0,  1, 22,  1,  0,  1, 19,\n",
      "         1,  2,  5, 12, 12,  1,  0,  1, 15, 16,  8,  9,  1,  0]))\n",
      "----------------------------------------------------------------------------------------------------\n",
      "Y:  tensor([ 5, 13, 13,  1,  0, 15, 12,  9, 22,  9,  1,  0,  1, 22,  1,  0,  9, 19,\n",
      "         1,  2,  5, 12, 12,  1,  0, 19, 15, 16,  8,  9,  1,  0])\n"
     ]
    }
   ],
   "source": [
    "# For the ...(starting characters in X) we always have different Y\n",
    "print('logits max: ', logits.max(1))\n",
    "print('-' * 100)\n",
    "print('Y: ', Y)"
   ]
  },
  {
   "cell_type": "code",
   "execution_count": 235,
   "id": "791359ba",
   "metadata": {
    "ExecuteTime": {
     "end_time": "2023-02-26T23:05:31.757102Z",
     "start_time": "2023-02-26T23:05:31.747989Z"
    }
   },
   "outputs": [
    {
     "data": {
      "text/plain": [
       "tensor([ 5, 13, 13,  1,  0, 15, 12,  9, 22,  9,  1,  0,  1, 22,  1,  0,  9, 19,\n",
       "         1,  2,  5, 12, 12,  1,  0, 19, 15, 16,  8,  9,  1,  0])"
      ]
     },
     "execution_count": 235,
     "metadata": {},
     "output_type": "execute_result"
    }
   ],
   "source": [
    "Y"
   ]
  },
  {
   "cell_type": "markdown",
   "id": "46218044",
   "metadata": {},
   "source": [
    "# Make Learning on full dataset"
   ]
  },
  {
   "cell_type": "code",
   "execution_count": 317,
   "id": "90b73b53",
   "metadata": {
    "ExecuteTime": {
     "end_time": "2023-02-26T23:16:17.619324Z",
     "start_time": "2023-02-26T23:16:16.805675Z"
    }
   },
   "outputs": [
    {
     "data": {
      "text/plain": [
       "(torch.Size([228146, 3]), torch.Size([228146]))"
      ]
     },
     "execution_count": 317,
     "metadata": {},
     "output_type": "execute_result"
    }
   ],
   "source": [
    "block_size = 3 # context length: how many characters we take to predict the next one?\n",
    "X, Y = [], []\n",
    "for w in words:\n",
    "    context = [0] * block_size\n",
    "    for ch in w + '.':\n",
    "        ix = stoi[ch]\n",
    "        X.append(context)\n",
    "        Y.append(ix)\n",
    "        context = context[1:] + [ix]\n",
    "\n",
    "X = torch.tensor(X)\n",
    "Y = torch.tensor(Y)\n",
    "X.shape, Y.shape"
   ]
  },
  {
   "cell_type": "code",
   "execution_count": 514,
   "id": "04ec8834",
   "metadata": {
    "ExecuteTime": {
     "end_time": "2023-02-26T23:43:09.631297Z",
     "start_time": "2023-02-26T23:43:09.624766Z"
    }
   },
   "outputs": [
    {
     "name": "stdout",
     "output_type": "stream",
     "text": [
      "num of params:  3481\n"
     ]
    }
   ],
   "source": [
    "g = torch.Generator().manual_seed(2147483647)\n",
    "C = torch.randn((27, 2), generator=g)\n",
    "W1 = torch.randn((6, 100), generator=g)\n",
    "b1 = torch.randn(100, generator=g)\n",
    "W2 = torch.randn((100, 27), generator=g)\n",
    "b2 = torch.randn(27, generator=g)\n",
    "parameters = [C, W1, b1, W2, b2]\n",
    "\n",
    "print('num of params: ', sum(p.nelement() for p in parameters))"
   ]
  },
  {
   "cell_type": "code",
   "execution_count": 515,
   "id": "4f95b325",
   "metadata": {
    "ExecuteTime": {
     "end_time": "2023-02-26T23:43:11.521374Z",
     "start_time": "2023-02-26T23:43:11.516707Z"
    }
   },
   "outputs": [],
   "source": [
    "for p in parameters:\n",
    "    p.requires_grad = True"
   ]
  },
  {
   "cell_type": "code",
   "execution_count": 516,
   "id": "e9cb3c48",
   "metadata": {
    "ExecuteTime": {
     "end_time": "2023-02-26T23:43:11.863676Z",
     "start_time": "2023-02-26T23:43:11.859819Z"
    }
   },
   "outputs": [],
   "source": [
    "losses = []"
   ]
  },
  {
   "cell_type": "code",
   "execution_count": 466,
   "id": "decd9e77",
   "metadata": {
    "ExecuteTime": {
     "end_time": "2023-02-26T23:26:03.329846Z",
     "start_time": "2023-02-26T23:26:02.905726Z"
    }
   },
   "outputs": [
    {
     "name": "stdout",
     "output_type": "stream",
     "text": [
      "final minibatch loss:  60.345706939697266\n"
     ]
    },
    {
     "data": {
      "image/png": "[encoded data removed]",
      "text/plain": [
       "<Figure size 640x480 with 1 Axes>"
      ]
     },
     "metadata": {},
     "output_type": "display_data"
    }
   ],
   "source": [
    "for _ in range(1000):\n",
    "    \n",
    "    # minibatch construc\n",
    "    ix = torch.randint(0, X.shape[0], (32,))\n",
    "    \n",
    "    # forward pass\n",
    "    emb = C[X[ix]] # (32, 3, 2)\n",
    "    h = torch.tanh(emb.view(-1, 6) @ W1 + b1) # (32, 100)\n",
    "    logits = h @ W2 + b2 # (32, 27)\n",
    "    loss = F.cross_entropy(logits, Y[ix])\n",
    "    losses.append(loss.item())\n",
    "#     print('minibatch loss: ', loss.item())\n",
    "    \n",
    "    # backward pass\n",
    "    for p in parameters:\n",
    "        p.grad = None\n",
    "    loss.backward()\n",
    "\n",
    "    # update\n",
    "    for p in parameters:\n",
    "        p.data += -10 * p.grad\n",
    "print('final minibatch loss: ', loss.item())\n",
    "plt.plot(losses);"
   ]
  },
  {
   "cell_type": "code",
   "execution_count": 406,
   "id": "6fe8d001",
   "metadata": {
    "ExecuteTime": {
     "end_time": "2023-02-26T23:19:09.842885Z",
     "start_time": "2023-02-26T23:19:09.694488Z"
    }
   },
   "outputs": [
    {
     "data": {
      "text/plain": [
       "tensor(2.4398, grad_fn=<NllLossBackward0>)"
      ]
     },
     "execution_count": 406,
     "metadata": {},
     "output_type": "execute_result"
    }
   ],
   "source": [
    "# evaluate loss on all train data\n",
    "emb = C[X] # (32, 3, 2)\n",
    "h = torch.tanh(emb.view(-1, 6) @ W1 + b1) # (32, 100)\n",
    "logits = h @ W2 + b2 # (32, 27)\n",
    "loss = F.cross_entropy(logits, Y)\n",
    "loss"
   ]
  },
  {
   "cell_type": "markdown",
   "id": "8d9750ee",
   "metadata": {},
   "source": [
    "# Finding a good initial learning rate"
   ]
  },
  {
   "cell_type": "code",
   "execution_count": 467,
   "id": "61ee1f0e",
   "metadata": {
    "ExecuteTime": {
     "end_time": "2023-02-26T23:27:06.061526Z",
     "start_time": "2023-02-26T23:27:06.057525Z"
    }
   },
   "outputs": [],
   "source": [
    "# lr between 1 and 0.001"
   ]
  },
  {
   "cell_type": "code",
   "execution_count": 517,
   "id": "ef4f73db",
   "metadata": {
    "ExecuteTime": {
     "end_time": "2023-02-26T23:43:19.382100Z",
     "start_time": "2023-02-26T23:43:19.372619Z"
    }
   },
   "outputs": [
    {
     "data": {
      "text/plain": [
       "tensor([0.0010, 0.0010, 0.0010, 0.0010, 0.0010, 0.0010, 0.0010, 0.0010, 0.0011,\n",
       "        0.0011])"
      ]
     },
     "execution_count": 517,
     "metadata": {},
     "output_type": "execute_result"
    }
   ],
   "source": [
    "# 10**-3 = 0.001, 10**(0) = 1 \n",
    "# steping liniarly amont exponents\n",
    "lre = torch.linspace(-3, 0, 1000)\n",
    "lrs = 10 ** lre\n",
    "lrs[:10]"
   ]
  },
  {
   "cell_type": "code",
   "execution_count": 518,
   "id": "e66f85c7",
   "metadata": {
    "ExecuteTime": {
     "end_time": "2023-02-26T23:43:20.227080Z",
     "start_time": "2023-02-26T23:43:19.847129Z"
    }
   },
   "outputs": [],
   "source": [
    "lri = []\n",
    "lossi = []\n",
    "for i in range(1000):\n",
    "    \n",
    "    # minibatch construct\n",
    "    ix = torch.randint(0, X.shape[0], (32,))\n",
    "    \n",
    "    # forward pass\n",
    "    emb = C[X[ix]] # (32, 3, 2)\n",
    "    h = torch.tanh(emb.view(-1, 6) @ W1 + b1) # (32, 100)\n",
    "    logits = h @ W2 + b2 # (32, 27)\n",
    "    loss = F.cross_entropy(logits, Y[ix])\n",
    "    \n",
    "    # backward pass\n",
    "    for p in parameters:\n",
    "        p.grad = None\n",
    "    loss.backward()\n",
    "\n",
    "    # update\n",
    "    lr = lrs[i]\n",
    "    for p in parameters:\n",
    "        p.data += -lr * p.grad\n",
    "        \n",
    "    # trac stats\n",
    "    lossi.append(loss.item())\n",
    "    lri.append(lre[i])"
   ]
  },
  {
   "cell_type": "code",
   "execution_count": 519,
   "id": "773bb9ee",
   "metadata": {
    "ExecuteTime": {
     "end_time": "2023-02-26T23:43:24.195253Z",
     "start_time": "2023-02-26T23:43:24.073123Z"
    }
   },
   "outputs": [
    {
     "data": {
      "text/plain": [
       "[<matplotlib.lines.Line2D at 0x7f5d56bef370>]"
      ]
     },
     "execution_count": 519,
     "metadata": {},
     "output_type": "execute_result"
    },
    {
     "data": {
      "image/png": "[encoded data removed]",
      "text/plain": [
       "<Figure size 640x480 with 1 Axes>"
      ]
     },
     "metadata": {},
     "output_type": "display_data"
    }
   ],
   "source": [
    "plt.plot(lri, lossi)"
   ]
  },
  {
   "cell_type": "code",
   "execution_count": null,
   "id": "d462bf0c",
   "metadata": {},
   "outputs": [],
   "source": [
    "# good lr spot: 0.1 - 0.2\n",
    "# -1.0 - good exponent learning rate"
   ]
  },
  {
   "cell_type": "markdown",
   "id": "a2f97ae6",
   "metadata": {},
   "source": [
    "# Run with good learning rate"
   ]
  },
  {
   "cell_type": "code",
   "execution_count": 525,
   "id": "2ba3d156",
   "metadata": {
    "ExecuteTime": {
     "end_time": "2023-02-26T23:50:43.380521Z",
     "start_time": "2023-02-26T23:50:43.373417Z"
    }
   },
   "outputs": [
    {
     "name": "stdout",
     "output_type": "stream",
     "text": [
      "num of params:  3481\n"
     ]
    }
   ],
   "source": [
    "g = torch.Generator().manual_seed(2147483647)\n",
    "C = torch.randn((27, 2), generator=g)\n",
    "W1 = torch.randn((6, 100), generator=g)\n",
    "b1 = torch.randn(100, generator=g)\n",
    "W2 = torch.randn((100, 27), generator=g)\n",
    "b2 = torch.randn(27, generator=g)\n",
    "parameters = [C, W1, b1, W2, b2]\n",
    "\n",
    "print('num of params: ', sum(p.nelement() for p in parameters))"
   ]
  },
  {
   "cell_type": "code",
   "execution_count": 526,
   "id": "91b10a7a",
   "metadata": {
    "ExecuteTime": {
     "end_time": "2023-02-26T23:50:43.848486Z",
     "start_time": "2023-02-26T23:50:43.844186Z"
    }
   },
   "outputs": [],
   "source": [
    "for p in parameters:\n",
    "    p.requires_grad = True"
   ]
  },
  {
   "cell_type": "code",
   "execution_count": 527,
   "id": "a2b57ecd",
   "metadata": {
    "ExecuteTime": {
     "end_time": "2023-02-26T23:50:44.439285Z",
     "start_time": "2023-02-26T23:50:44.432761Z"
    }
   },
   "outputs": [],
   "source": [
    "lossi = []"
   ]
  },
  {
   "cell_type": "code",
   "execution_count": 535,
   "id": "897bf484",
   "metadata": {
    "ExecuteTime": {
     "end_time": "2023-02-26T23:54:26.516949Z",
     "start_time": "2023-02-26T23:53:48.399636Z"
    },
    "scrolled": false
   },
   "outputs": [
    {
     "name": "stdout",
     "output_type": "stream",
     "text": [
      "final minibatch loss:  2.2872002124786377\n"
     ]
    },
    {
     "data": {
      "image/png": "[encoded data removed]",
      "text/plain": [
       "<Figure size 640x480 with 1 Axes>"
      ]
     },
     "metadata": {},
     "output_type": "display_data"
    }
   ],
   "source": [
    "lr = 0.1\n",
    "for _ in range(100000):\n",
    "    \n",
    "    # minibatch construc\n",
    "    ix = torch.randint(0, X.shape[0], (32,))\n",
    "    \n",
    "    # forward pass\n",
    "    emb = C[X[ix]] # (32, 3, 2)\n",
    "    h = torch.tanh(emb.view(-1, 6) @ W1 + b1) # (32, 100)\n",
    "    logits = h @ W2 + b2 # (32, 27)\n",
    "    loss = F.cross_entropy(logits, Y[ix])\n",
    "    lossi.append(loss.item())\n",
    "#     print('minibatch loss: ', loss.item())\n",
    "    \n",
    "    # backward pass\n",
    "    for p in parameters:\n",
    "        p.grad = None\n",
    "    loss.backward()\n",
    "\n",
    "    # update\n",
    "    for p in parameters:\n",
    "        p.data += -lr * p.grad\n",
    "print('final minibatch loss: ', loss.item())\n",
    "plt.plot(lossi);"
   ]
  },
  {
   "cell_type": "code",
   "execution_count": 536,
   "id": "aab5b602",
   "metadata": {
    "ExecuteTime": {
     "end_time": "2023-02-26T23:54:41.913362Z",
     "start_time": "2023-02-26T23:54:41.810477Z"
    }
   },
   "outputs": [
    {
     "data": {
      "image/png": "[encoded data removed]",
      "text/plain": [
       "<Figure size 640x480 with 1 Axes>"
      ]
     },
     "metadata": {},
     "output_type": "display_data"
    }
   ],
   "source": [
    "plt.plot(torch.tensor(lossi).view(-1, 1000).mean(1));"
   ]
  },
  {
   "cell_type": "code",
   "execution_count": 537,
   "id": "099b192b",
   "metadata": {
    "ExecuteTime": {
     "end_time": "2023-02-26T23:54:51.332720Z",
     "start_time": "2023-02-26T23:54:51.100452Z"
    }
   },
   "outputs": [
    {
     "data": {
      "text/plain": [
       "tensor(2.2898, grad_fn=<NllLossBackward0>)"
      ]
     },
     "execution_count": 537,
     "metadata": {},
     "output_type": "execute_result"
    }
   ],
   "source": [
    "# evaluate loss on all train data\n",
    "emb = C[X] # (32, 3, 2)\n",
    "h = torch.tanh(emb.view(-1, 6) @ W1 + b1) # (32, 100)\n",
    "logits = h @ W2 + b2 # (32, 27)\n",
    "loss = F.cross_entropy(logits, Y)\n",
    "loss"
   ]
  },
  {
   "cell_type": "code",
   "execution_count": 538,
   "id": "b68048d2",
   "metadata": {
    "ExecuteTime": {
     "end_time": "2023-02-26T23:56:09.672694Z",
     "start_time": "2023-02-26T23:55:34.482620Z"
    }
   },
   "outputs": [
    {
     "name": "stdout",
     "output_type": "stream",
     "text": [
      "final minibatch loss:  1.9848359823226929\n"
     ]
    },
    {
     "data": {
      "image/png": "[encoded data removed]",
      "text/plain": [
       "<Figure size 640x480 with 1 Axes>"
      ]
     },
     "metadata": {},
     "output_type": "display_data"
    }
   ],
   "source": [
    "# make learning rate decay\n",
    "lr = 0.1 / 10\n",
    "for _ in range(100000):\n",
    "    \n",
    "    # minibatch construc\n",
    "    ix = torch.randint(0, X.shape[0], (32,))\n",
    "    \n",
    "    # forward pass\n",
    "    emb = C[X[ix]] # (32, 3, 2)\n",
    "    h = torch.tanh(emb.view(-1, 6) @ W1 + b1) # (32, 100)\n",
    "    logits = h @ W2 + b2 # (32, 27)\n",
    "    loss = F.cross_entropy(logits, Y[ix])\n",
    "    lossi.append(loss.item())\n",
    "#     print('minibatch loss: ', loss.item())\n",
    "    \n",
    "    # backward pass\n",
    "    for p in parameters:\n",
    "        p.grad = None\n",
    "    loss.backward()\n",
    "\n",
    "    # update\n",
    "    for p in parameters:\n",
    "        p.data += -lr * p.grad\n",
    "print('final minibatch loss: ', loss.item())\n",
    "plt.plot(lossi);"
   ]
  },
  {
   "cell_type": "code",
   "execution_count": 539,
   "id": "a87a5d52",
   "metadata": {
    "ExecuteTime": {
     "end_time": "2023-02-26T23:56:09.776842Z",
     "start_time": "2023-02-26T23:56:09.676784Z"
    }
   },
   "outputs": [
    {
     "data": {
      "image/png": "[encoded data removed]",
      "text/plain": [
       "<Figure size 640x480 with 1 Axes>"
      ]
     },
     "metadata": {},
     "output_type": "display_data"
    }
   ],
   "source": [
    "plt.plot(torch.tensor(lossi).view(-1, 1000).mean(1));"
   ]
  },
  {
   "cell_type": "code",
   "execution_count": 540,
   "id": "2ceb19a7",
   "metadata": {
    "ExecuteTime": {
     "end_time": "2023-02-26T23:56:09.989144Z",
     "start_time": "2023-02-26T23:56:09.778493Z"
    }
   },
   "outputs": [
    {
     "data": {
      "text/plain": [
       "tensor(2.2176, grad_fn=<NllLossBackward0>)"
      ]
     },
     "execution_count": 540,
     "metadata": {},
     "output_type": "execute_result"
    }
   ],
   "source": [
    "# evaluate loss on all train data\n",
    "emb = C[X] # (32, 3, 2)\n",
    "h = torch.tanh(emb.view(-1, 6) @ W1 + b1) # (32, 100)\n",
    "logits = h @ W2 + b2 # (32, 27)\n",
    "loss = F.cross_entropy(logits, Y)\n",
    "loss"
   ]
  },
  {
   "cell_type": "markdown",
   "id": "76982659",
   "metadata": {},
   "source": [
    "# Train, dev, test splits"
   ]
  },
  {
   "cell_type": "code",
   "execution_count": 541,
   "id": "8f21afef",
   "metadata": {
    "ExecuteTime": {
     "end_time": "2023-02-27T00:02:22.460681Z",
     "start_time": "2023-02-27T00:02:22.457861Z"
    }
   },
   "outputs": [],
   "source": [
    "# train, dev / valid, test\n",
    "# 80, 10, 10\n",
    "# train (for optimization) (train parameters)\n",
    "# dev (for hyper-parameters)\n",
    "# test - test :) eval final perfomance of the model "
   ]
  },
  {
   "cell_type": "code",
   "execution_count": null,
   "id": "e9cc11df",
   "metadata": {},
   "outputs": [],
   "source": []
  },
  {
   "cell_type": "markdown",
   "id": "dc787998",
   "metadata": {},
   "source": [
    "## Build dataset"
   ]
  },
  {
   "cell_type": "code",
   "execution_count": 543,
   "id": "b6ae49dd",
   "metadata": {
    "ExecuteTime": {
     "end_time": "2023-02-27T00:05:45.948451Z",
     "start_time": "2023-02-27T00:05:45.941375Z"
    }
   },
   "outputs": [],
   "source": [
    "def build_dataset(words):\n",
    "    block_size = 3 # context length: how many characters we take to predict the next one?\n",
    "    X, Y = [], []\n",
    "    for w in words:\n",
    "        context = [0] * block_size\n",
    "        for ch in w + '.':\n",
    "            ix = stoi[ch]\n",
    "            X.append(context)\n",
    "            Y.append(ix)\n",
    "            context = context[1:] + [ix]\n",
    "\n",
    "    X = torch.tensor(X)\n",
    "    Y = torch.tensor(Y)\n",
    "    print(X.shape, Y.shape)\n",
    "    return X, Y"
   ]
  },
  {
   "cell_type": "code",
   "execution_count": 545,
   "id": "6adfa470",
   "metadata": {
    "ExecuteTime": {
     "end_time": "2023-02-27T00:08:28.870861Z",
     "start_time": "2023-02-27T00:08:27.963544Z"
    }
   },
   "outputs": [
    {
     "name": "stdout",
     "output_type": "stream",
     "text": [
      "torch.Size([182580, 3]) torch.Size([182580])\n",
      "torch.Size([22767, 3]) torch.Size([22767])\n",
      "torch.Size([22799, 3]) torch.Size([22799])\n"
     ]
    }
   ],
   "source": [
    "import random\n",
    "random.seed(42)\n",
    "random.shuffle(words)\n",
    "\n",
    "n1 = int(0.8*len(words))\n",
    "n2 = int(0.9*len(words))\n",
    "\n",
    "Xtr, Ytr = build_dataset(words[:n1])\n",
    "Xdev, Ydev = build_dataset(words[n1:n2])\n",
    "Xte, Yte = build_dataset(words[n2:])"
   ]
  },
  {
   "cell_type": "code",
   "execution_count": 546,
   "id": "54221e35",
   "metadata": {
    "ExecuteTime": {
     "end_time": "2023-02-27T00:09:53.337908Z",
     "start_time": "2023-02-27T00:09:53.330558Z"
    }
   },
   "outputs": [
    {
     "name": "stdout",
     "output_type": "stream",
     "text": [
      "num of params:  3481\n"
     ]
    }
   ],
   "source": [
    "g = torch.Generator().manual_seed(2147483647)\n",
    "C = torch.randn((27, 2), generator=g)\n",
    "W1 = torch.randn((6, 100), generator=g)\n",
    "b1 = torch.randn(100, generator=g)\n",
    "W2 = torch.randn((100, 27), generator=g)\n",
    "b2 = torch.randn(27, generator=g)\n",
    "parameters = [C, W1, b1, W2, b2]\n",
    "\n",
    "print('num of params: ', sum(p.nelement() for p in parameters))"
   ]
  },
  {
   "cell_type": "code",
   "execution_count": 547,
   "id": "c9e0e72d",
   "metadata": {
    "ExecuteTime": {
     "end_time": "2023-02-27T00:09:53.811615Z",
     "start_time": "2023-02-27T00:09:53.808112Z"
    }
   },
   "outputs": [],
   "source": [
    "for p in parameters:\n",
    "    p.requires_grad = True"
   ]
  },
  {
   "cell_type": "code",
   "execution_count": 548,
   "id": "da7dc9de",
   "metadata": {
    "ExecuteTime": {
     "end_time": "2023-02-27T00:09:54.224299Z",
     "start_time": "2023-02-27T00:09:54.213353Z"
    }
   },
   "outputs": [],
   "source": [
    "lossi = []"
   ]
  },
  {
   "cell_type": "code",
   "execution_count": 571,
   "id": "6e698e86",
   "metadata": {
    "ExecuteTime": {
     "end_time": "2023-02-27T00:18:08.530020Z",
     "start_time": "2023-02-27T00:17:38.006695Z"
    }
   },
   "outputs": [
    {
     "name": "stdout",
     "output_type": "stream",
     "text": [
      "final minibatch loss:  2.1207213401794434\n"
     ]
    },
    {
     "data": {
      "image/png": "[encoded data removed]",
      "text/plain": [
       "<Figure size 640x480 with 1 Axes>"
      ]
     },
     "metadata": {},
     "output_type": "display_data"
    }
   ],
   "source": [
    "lr = 0.01\n",
    "for _ in range(100000):\n",
    "    \n",
    "    # minibatch construc\n",
    "    ix = torch.randint(0, Xtr.shape[0], (32,))\n",
    "    \n",
    "    # forward pass\n",
    "    emb = C[Xtr[ix]] # (32, 3, 2)\n",
    "    h = torch.tanh(emb.view(-1, 6) @ W1 + b1) # (32, 100)\n",
    "    logits = h @ W2 + b2 # (32, 27)\n",
    "    loss = F.cross_entropy(logits, Ytr[ix])\n",
    "    lossi.append(loss.item())\n",
    "#     print('minibatch loss: ', loss.item())\n",
    "    \n",
    "    # backward pass\n",
    "    for p in parameters:\n",
    "        p.grad = None\n",
    "    loss.backward()\n",
    "\n",
    "    # update\n",
    "    for p in parameters:\n",
    "        p.data += -lr * p.grad\n",
    "print('final minibatch loss: ', loss.item())\n",
    "plt.plot(torch.tensor(lossi).view(-1, 1000).mean(1));"
   ]
  },
  {
   "cell_type": "code",
   "execution_count": 572,
   "id": "a21cd69f",
   "metadata": {
    "ExecuteTime": {
     "end_time": "2023-02-27T00:18:08.646866Z",
     "start_time": "2023-02-27T00:18:08.532024Z"
    }
   },
   "outputs": [
    {
     "data": {
      "text/plain": [
       "tensor(2.2154, grad_fn=<NllLossBackward0>)"
      ]
     },
     "execution_count": 572,
     "metadata": {},
     "output_type": "execute_result"
    }
   ],
   "source": [
    "# evaluate loss on all train data\n",
    "emb = C[Xtr] # (32, 3, 2)\n",
    "h = torch.tanh(emb.view(-1, 6) @ W1 + b1) # (32, 100)\n",
    "logits = h @ W2 + b2 # (32, 27)\n",
    "loss = F.cross_entropy(logits, Ytr)\n",
    "loss"
   ]
  },
  {
   "cell_type": "code",
   "execution_count": 573,
   "id": "7324af6b",
   "metadata": {
    "ExecuteTime": {
     "end_time": "2023-02-27T00:18:08.665550Z",
     "start_time": "2023-02-27T00:18:08.648307Z"
    }
   },
   "outputs": [
    {
     "data": {
      "text/plain": [
       "tensor(2.2275, grad_fn=<NllLossBackward0>)"
      ]
     },
     "execution_count": 573,
     "metadata": {},
     "output_type": "execute_result"
    }
   ],
   "source": [
    "# evaluate loss on all dev data\n",
    "emb = C[Xdev] # (32, 3, 2)\n",
    "h = torch.tanh(emb.view(-1, 6) @ W1 + b1) # (32, 100)\n",
    "logits = h @ W2 + b2 # (32, 27)\n",
    "loss = F.cross_entropy(logits, Ydev)\n",
    "loss"
   ]
  },
  {
   "cell_type": "markdown",
   "id": "9febb43b",
   "metadata": {},
   "source": [
    "# Increase size of model"
   ]
  },
  {
   "cell_type": "code",
   "execution_count": 574,
   "id": "0349ceba",
   "metadata": {
    "ExecuteTime": {
     "end_time": "2023-02-27T00:19:26.909035Z",
     "start_time": "2023-02-27T00:19:26.901233Z"
    }
   },
   "outputs": [
    {
     "name": "stdout",
     "output_type": "stream",
     "text": [
      "num of params:  10281\n"
     ]
    }
   ],
   "source": [
    "g = torch.Generator().manual_seed(2147483647)\n",
    "C = torch.randn((27, 2), generator=g)\n",
    "W1 = torch.randn((6, 300), generator=g)\n",
    "b1 = torch.randn(300, generator=g)\n",
    "W2 = torch.randn((300, 27), generator=g)\n",
    "b2 = torch.randn(27, generator=g)\n",
    "parameters = [C, W1, b1, W2, b2]\n",
    "\n",
    "print('num of params: ', sum(p.nelement() for p in parameters))"
   ]
  },
  {
   "cell_type": "code",
   "execution_count": 575,
   "id": "8aebd631",
   "metadata": {
    "ExecuteTime": {
     "end_time": "2023-02-27T00:19:28.908474Z",
     "start_time": "2023-02-27T00:19:28.904194Z"
    }
   },
   "outputs": [],
   "source": [
    "for p in parameters:\n",
    "    p.requires_grad = True"
   ]
  },
  {
   "cell_type": "code",
   "execution_count": 576,
   "id": "759e192a",
   "metadata": {
    "ExecuteTime": {
     "end_time": "2023-02-27T00:19:29.463961Z",
     "start_time": "2023-02-27T00:19:29.447121Z"
    }
   },
   "outputs": [],
   "source": [
    "lossi = []"
   ]
  },
  {
   "cell_type": "code",
   "execution_count": 591,
   "id": "50eb3dc6",
   "metadata": {
    "ExecuteTime": {
     "end_time": "2023-02-27T00:24:55.593161Z",
     "start_time": "2023-02-27T00:24:39.391509Z"
    }
   },
   "outputs": [
    {
     "name": "stdout",
     "output_type": "stream",
     "text": [
      "final minibatch loss:  2.5083818435668945\n"
     ]
    },
    {
     "data": {
      "image/png": "[encoded data removed]",
      "text/plain": [
       "<Figure size 640x480 with 1 Axes>"
      ]
     },
     "metadata": {},
     "output_type": "display_data"
    }
   ],
   "source": [
    "lr = 0.01\n",
    "for _ in range(30000):\n",
    "    \n",
    "    # minibatch construc\n",
    "    ix = torch.randint(0, Xtr.shape[0], (32,))\n",
    "    \n",
    "    # forward pass\n",
    "    emb = C[Xtr[ix]] # (32, 3, 2)\n",
    "    h = torch.tanh(emb.view(-1, 6) @ W1 + b1) # (32, 100)\n",
    "    logits = h @ W2 + b2 # (32, 27)\n",
    "    loss = F.cross_entropy(logits, Ytr[ix])\n",
    "    lossi.append(loss.item())\n",
    "#     print('minibatch loss: ', loss.item())\n",
    "    \n",
    "    # backward pass\n",
    "    for p in parameters:\n",
    "        p.grad = None\n",
    "    loss.backward()\n",
    "\n",
    "    # update\n",
    "    for p in parameters:\n",
    "        p.data += -lr * p.grad\n",
    "print('final minibatch loss: ', loss.item())\n",
    "plt.plot(torch.tensor(lossi).view(-1, 1000).mean(1));"
   ]
  },
  {
   "cell_type": "code",
   "execution_count": 592,
   "id": "83903389",
   "metadata": {
    "ExecuteTime": {
     "end_time": "2023-02-27T00:24:56.016823Z",
     "start_time": "2023-02-27T00:24:55.595181Z"
    }
   },
   "outputs": [
    {
     "data": {
      "text/plain": [
       "tensor(2.2230, grad_fn=<NllLossBackward0>)"
      ]
     },
     "execution_count": 592,
     "metadata": {},
     "output_type": "execute_result"
    }
   ],
   "source": [
    "# evaluate loss on all train data\n",
    "emb = C[Xtr] # (32, 3, 2)\n",
    "h = torch.tanh(emb.view(-1, 6) @ W1 + b1) # (32, 100)\n",
    "logits = h @ W2 + b2 # (32, 27)\n",
    "loss = F.cross_entropy(logits, Ytr)\n",
    "loss"
   ]
  },
  {
   "cell_type": "code",
   "execution_count": 593,
   "id": "46a9bafd",
   "metadata": {
    "ExecuteTime": {
     "end_time": "2023-02-27T00:24:56.089383Z",
     "start_time": "2023-02-27T00:24:56.019517Z"
    }
   },
   "outputs": [
    {
     "data": {
      "text/plain": [
       "tensor(2.2329, grad_fn=<NllLossBackward0>)"
      ]
     },
     "execution_count": 593,
     "metadata": {},
     "output_type": "execute_result"
    }
   ],
   "source": [
    "# evaluate loss on all dev data\n",
    "emb = C[Xdev] # (32, 3, 2)\n",
    "h = torch.tanh(emb.view(-1, 6) @ W1 + b1) # (32, 100)\n",
    "logits = h @ W2 + b2 # (32, 27)\n",
    "loss = F.cross_entropy(logits, Ydev)\n",
    "loss"
   ]
  },
  {
   "cell_type": "markdown",
   "id": "920d711b",
   "metadata": {
    "ExecuteTime": {
     "end_time": "2023-02-27T00:31:07.897316Z",
     "start_time": "2023-02-27T00:31:07.892646Z"
    }
   },
   "source": [
    "- <b> Loss don't go down mabye bcz hidden layer isn't botleneck now but it is embeddings vectors </b>\n",
    "- <b> Try to increase embeddings vectors </b>"
   ]
  },
  {
   "cell_type": "markdown",
   "id": "f2b0f16c",
   "metadata": {},
   "source": [
    "# Visalize embeddings"
   ]
  },
  {
   "cell_type": "code",
   "execution_count": 596,
   "id": "ffe646cc",
   "metadata": {
    "ExecuteTime": {
     "end_time": "2023-02-27T00:27:58.740464Z",
     "start_time": "2023-02-27T00:27:58.592528Z"
    }
   },
   "outputs": [
    {
     "data": {
      "image/png": "[encoded data removed]",
      "text/plain": [
       "<Figure size 800x800 with 1 Axes>"
      ]
     },
     "metadata": {},
     "output_type": "display_data"
    }
   ],
   "source": [
    "plt.figure(figsize=(8, 8))\n",
    "plt.scatter(C[:,0].data, C[:, 1].data, s=200)\n",
    "for i in range(C.shape[0]):\n",
    "    plt.text(C[i, 0].item(), C[i, 1].item(), itos[i], ha=\"center\", va=\"center\", color=\"white\")\n",
    "plt.grid('minor')"
   ]
  },
  {
   "cell_type": "markdown",
   "id": "d9de5bad",
   "metadata": {},
   "source": [
    "# Increase embedding vectors"
   ]
  },
  {
   "cell_type": "code",
   "execution_count": 638,
   "id": "88623657",
   "metadata": {
    "ExecuteTime": {
     "end_time": "2023-02-27T00:47:15.630364Z",
     "start_time": "2023-02-27T00:47:15.624872Z"
    }
   },
   "outputs": [
    {
     "name": "stdout",
     "output_type": "stream",
     "text": [
      "num of params:  11897\n"
     ]
    }
   ],
   "source": [
    "g = torch.Generator().manual_seed(2147483647)\n",
    "C = torch.randn((27, 10), generator=g)\n",
    "W1 = torch.randn((30, 200), generator=g)\n",
    "b1 = torch.randn(200, generator=g)\n",
    "W2 = torch.randn((200, 27), generator=g)\n",
    "b2 = torch.randn(27, generator=g)\n",
    "parameters = [C, W1, b1, W2, b2]\n",
    "\n",
    "print('num of params: ', sum(p.nelement() for p in parameters))"
   ]
  },
  {
   "cell_type": "code",
   "execution_count": 639,
   "id": "5647ffbe",
   "metadata": {
    "ExecuteTime": {
     "end_time": "2023-02-27T00:47:16.149462Z",
     "start_time": "2023-02-27T00:47:16.144549Z"
    }
   },
   "outputs": [],
   "source": [
    "for p in parameters:\n",
    "    p.requires_grad = True"
   ]
  },
  {
   "cell_type": "code",
   "execution_count": 640,
   "id": "b9cf4332",
   "metadata": {
    "ExecuteTime": {
     "end_time": "2023-02-27T00:47:16.863262Z",
     "start_time": "2023-02-27T00:47:16.846582Z"
    }
   },
   "outputs": [],
   "source": [
    "lossi = []\n",
    "loglossi = []"
   ]
  },
  {
   "cell_type": "code",
   "execution_count": 641,
   "id": "72562428",
   "metadata": {
    "ExecuteTime": {
     "end_time": "2023-02-27T00:49:43.414770Z",
     "start_time": "2023-02-27T00:47:17.960921Z"
    }
   },
   "outputs": [
    {
     "name": "stdout",
     "output_type": "stream",
     "text": [
      "final minibatch loss:  1.8734102249145508\n"
     ]
    },
    {
     "data": {
      "image/png": "[encoded data removed]",
      "text/plain": [
       "<Figure size 640x480 with 1 Axes>"
      ]
     },
     "metadata": {},
     "output_type": "display_data"
    }
   ],
   "source": [
    "for i in range(300000):\n",
    "    \n",
    "    # minibatch construc\n",
    "    ix = torch.randint(0, Xtr.shape[0], (32,))\n",
    "    \n",
    "    # forward pass\n",
    "    emb = C[Xtr[ix]] # (32, 3, 10)\n",
    "    h = torch.tanh(emb.view(-1, 30) @ W1 + b1) # (32, 200)\n",
    "    logits = h @ W2 + b2 # (32, 27)\n",
    "    loss = F.cross_entropy(logits, Ytr[ix])\n",
    "    lossi.append(loss.item())\n",
    "    loglossi.append(loss.log10().item())\n",
    "#     print('minibatch loss: ', loss.item())\n",
    "    \n",
    "    # backward pass\n",
    "    for p in parameters:\n",
    "        p.grad = None\n",
    "    loss.backward()\n",
    "\n",
    "    # update\n",
    "    lr = 0.1 if i < 100000 else 0.001 if i > 200000 else 0.01 \n",
    "    for p in parameters:\n",
    "        p.data += -lr * p.grad\n",
    "print('final minibatch loss: ', loss.item())\n",
    "plt.plot(torch.tensor(lossi).view(-1, 1000).mean(1));"
   ]
  },
  {
   "cell_type": "code",
   "execution_count": 642,
   "id": "f0afaa75",
   "metadata": {
    "ExecuteTime": {
     "end_time": "2023-02-27T00:49:43.880570Z",
     "start_time": "2023-02-27T00:49:43.416697Z"
    }
   },
   "outputs": [
    {
     "data": {
      "image/png": "[encoded data removed]",
      "text/plain": [
       "<Figure size 2000x1000 with 2 Axes>"
      ]
     },
     "metadata": {},
     "output_type": "display_data"
    }
   ],
   "source": [
    "fig, ax = plt.subplots(1, 2, figsize=(20, 10))\n",
    "\n",
    "ax[0].plot(lossi)\n",
    "ax[1].plot(loglossi);"
   ]
  },
  {
   "cell_type": "code",
   "execution_count": 643,
   "id": "452f6061",
   "metadata": {
    "ExecuteTime": {
     "end_time": "2023-02-27T00:49:44.107164Z",
     "start_time": "2023-02-27T00:49:43.882021Z"
    }
   },
   "outputs": [
    {
     "data": {
      "text/plain": [
       "tensor(2.1054, grad_fn=<NllLossBackward0>)"
      ]
     },
     "execution_count": 643,
     "metadata": {},
     "output_type": "execute_result"
    }
   ],
   "source": [
    "# evaluate loss on all train data\n",
    "emb = C[Xtr] # (32, 3, 10)\n",
    "h = torch.tanh(emb.view(-1, 30) @ W1 + b1) # (B, 100)\n",
    "logits = h @ W2 + b2 # (B, 27)\n",
    "loss = F.cross_entropy(logits, Ytr)\n",
    "loss"
   ]
  },
  {
   "cell_type": "code",
   "execution_count": 644,
   "id": "00b6fc19",
   "metadata": {
    "ExecuteTime": {
     "end_time": "2023-02-27T00:49:44.140877Z",
     "start_time": "2023-02-27T00:49:44.109421Z"
    }
   },
   "outputs": [
    {
     "data": {
      "text/plain": [
       "tensor(2.1476, grad_fn=<NllLossBackward0>)"
      ]
     },
     "execution_count": 644,
     "metadata": {},
     "output_type": "execute_result"
    }
   ],
   "source": [
    "# evaluate loss on all dev data\n",
    "emb = C[Xdev] # (32, 3, 2)\n",
    "h = torch.tanh(emb.view(-1, 30) @ W1 + b1) # (B, 100)\n",
    "logits = h @ W2 + b2 # (B, 27)\n",
    "loss = F.cross_entropy(logits, Ydev)\n",
    "loss"
   ]
  },
  {
   "cell_type": "code",
   "execution_count": null,
   "id": "8ecb6d2d",
   "metadata": {},
   "outputs": [],
   "source": []
  },
  {
   "cell_type": "markdown",
   "id": "e0d6bc4b",
   "metadata": {},
   "source": [
    "# Sample from model"
   ]
  },
  {
   "cell_type": "code",
   "execution_count": 653,
   "id": "1ba172b2",
   "metadata": {
    "ExecuteTime": {
     "end_time": "2023-02-27T00:55:26.165275Z",
     "start_time": "2023-02-27T00:55:26.113660Z"
    }
   },
   "outputs": [
    {
     "name": "stdout",
     "output_type": "stream",
     "text": [
      "celie.\n",
      "mouller.\n",
      "ilah.\n",
      "tyhabellissana.\n",
      "nolla.\n",
      "kaman.\n",
      "arreliyah.\n",
      "javariiomai.\n",
      "moriella.\n",
      "kinzited.\n",
      "jena.\n",
      "mat.\n",
      "sade.\n",
      "enkavernyxlelsp.\n",
      "huliveavtarlyn.\n",
      "kasdru.\n",
      "antil.\n",
      "pennaiah.\n",
      "jerrienne.\n",
      "azkeyden.\n"
     ]
    }
   ],
   "source": [
    "g = torch.Generator().manual_seed(2147483647)\n",
    "\n",
    "for i in range(20):\n",
    "    out = []\n",
    "    context= [0] * block_size # init with all ...\n",
    "    while True:\n",
    "        emb = C[torch.tensor([context])] # (1, block_size, d)\n",
    "        h = torch.tanh(emb.view(1, -1) @ W1 + b1)\n",
    "        logits = h @ W2 + b2 \n",
    "        probs = F.softmax(logits, dim=1)\n",
    "        ix = torch.multinomial(probs, num_samples=1, generator=g).item()\n",
    "        context = context[1:] + [ix]\n",
    "        out.append(ix)\n",
    "        if ix == 0:\n",
    "            break\n",
    "    print(''.join(itos[i] for i in out))"
   ]
  },
  {
   "cell_type": "code",
   "execution_count": null,
   "id": "0825c3bb",
   "metadata": {},
   "outputs": [],
   "source": []
  },
  {
   "cell_type": "markdown",
   "id": "8e200922",
   "metadata": {},
   "source": [
    "# Playground"
   ]
  },
  {
   "cell_type": "code",
   "execution_count": 43,
   "id": "62aa37b1",
   "metadata": {
    "ExecuteTime": {
     "end_time": "2023-02-26T21:39:34.194171Z",
     "start_time": "2023-02-26T21:39:34.184245Z"
    }
   },
   "outputs": [
    {
     "name": "stdout",
     "output_type": "stream",
     "text": [
      "torch.Size([18])\n"
     ]
    },
    {
     "data": {
      "text/plain": [
       "tensor([ 0,  1,  2,  3,  4,  5,  6,  7,  8,  9, 10, 11, 12, 13, 14, 15, 16, 17])"
      ]
     },
     "execution_count": 43,
     "metadata": {},
     "output_type": "execute_result"
    }
   ],
   "source": [
    "a = torch.arange(18)\n",
    "print(a.shape)\n",
    "a"
   ]
  },
  {
   "cell_type": "code",
   "execution_count": 45,
   "id": "bde219af",
   "metadata": {
    "ExecuteTime": {
     "end_time": "2023-02-26T21:39:42.669757Z",
     "start_time": "2023-02-26T21:39:42.657492Z"
    }
   },
   "outputs": [
    {
     "data": {
      "text/plain": [
       "tensor([[ 0,  1,  2,  3,  4,  5,  6,  7,  8],\n",
       "        [ 9, 10, 11, 12, 13, 14, 15, 16, 17]])"
      ]
     },
     "execution_count": 45,
     "metadata": {},
     "output_type": "execute_result"
    }
   ],
   "source": [
    "a.view(2, 9)"
   ]
  },
  {
   "cell_type": "code",
   "execution_count": 46,
   "id": "521bd69b",
   "metadata": {
    "ExecuteTime": {
     "end_time": "2023-02-26T21:40:01.400656Z",
     "start_time": "2023-02-26T21:40:01.391849Z"
    }
   },
   "outputs": [
    {
     "data": {
      "text/plain": [
       " 0\n",
       " 1\n",
       " 2\n",
       " 3\n",
       " 4\n",
       " 5\n",
       " 6\n",
       " 7\n",
       " 8\n",
       " 9\n",
       " 10\n",
       " 11\n",
       " 12\n",
       " 13\n",
       " 14\n",
       " 15\n",
       " 16\n",
       " 17\n",
       "[torch.storage.TypedStorage(dtype=torch.int64, device=cpu) of size 18]"
      ]
     },
     "execution_count": 46,
     "metadata": {},
     "output_type": "execute_result"
    }
   ],
   "source": [
    "a.storage()"
   ]
  },
  {
   "cell_type": "code",
   "execution_count": null,
   "id": "8e2d8224",
   "metadata": {},
   "outputs": [],
   "source": []
  },
  {
   "cell_type": "code",
   "execution_count": 28,
   "id": "ecba87a6",
   "metadata": {
    "ExecuteTime": {
     "end_time": "2023-02-26T21:28:52.463743Z",
     "start_time": "2023-02-26T21:28:52.454682Z"
    }
   },
   "outputs": [
    {
     "data": {
      "text/plain": [
       "torch.Size([32, 3, 2])"
      ]
     },
     "execution_count": 28,
     "metadata": {},
     "output_type": "execute_result"
    }
   ],
   "source": [
    "emb = C[X]\n",
    "emb.shape"
   ]
  },
  {
   "cell_type": "code",
   "execution_count": 29,
   "id": "4457d4e0",
   "metadata": {
    "ExecuteTime": {
     "end_time": "2023-02-26T21:30:03.354541Z",
     "start_time": "2023-02-26T21:30:03.350506Z"
    }
   },
   "outputs": [],
   "source": [
    "W1 = torch.randn((3, 100))\n",
    "b1 = torch.randn(100)"
   ]
  },
  {
   "cell_type": "code",
   "execution_count": 34,
   "id": "7e03bb3e",
   "metadata": {
    "ExecuteTime": {
     "end_time": "2023-02-26T21:36:57.090386Z",
     "start_time": "2023-02-26T21:36:57.083717Z"
    }
   },
   "outputs": [
    {
     "name": "stdout",
     "output_type": "stream",
     "text": [
      "torch.Size([32, 2])\n",
      "torch.Size([32, 6])\n"
     ]
    }
   ],
   "source": [
    "# emb @ W1 + b1 cant do!!!\n",
    "print(emb[:, 0, :].shape)\n",
    "print(torch.cat([emb[:, 0, :], emb[:, 1, :], emb[:, 2, :]], dim=1).shape)"
   ]
  },
  {
   "cell_type": "code",
   "execution_count": 41,
   "id": "ca0dbd7f",
   "metadata": {
    "ExecuteTime": {
     "end_time": "2023-02-26T21:38:53.445428Z",
     "start_time": "2023-02-26T21:38:53.439517Z"
    }
   },
   "outputs": [
    {
     "name": "stdout",
     "output_type": "stream",
     "text": [
      "3\n",
      "torch.Size([32, 6])\n"
     ]
    }
   ],
   "source": [
    "print(len(torch.unbind(emb, 1)))\n",
    "print(torch.cat(torch.unbind(emb, 1), dim=1).shape)"
   ]
  },
  {
   "cell_type": "code",
   "execution_count": 47,
   "id": "2f207839",
   "metadata": {
    "ExecuteTime": {
     "end_time": "2023-02-26T22:30:22.464447Z",
     "start_time": "2023-02-26T22:30:22.457498Z"
    }
   },
   "outputs": [
    {
     "data": {
      "text/plain": [
       "torch.Size([32, 3, 2])"
      ]
     },
     "execution_count": 47,
     "metadata": {},
     "output_type": "execute_result"
    }
   ],
   "source": [
    "emb.shape"
   ]
  },
  {
   "cell_type": "code",
   "execution_count": 50,
   "id": "e692440b",
   "metadata": {
    "ExecuteTime": {
     "end_time": "2023-02-26T22:30:58.059788Z",
     "start_time": "2023-02-26T22:30:58.045380Z"
    }
   },
   "outputs": [
    {
     "data": {
      "text/plain": [
       "tensor([[True, True, True, True, True, True],\n",
       "        [True, True, True, True, True, True],\n",
       "        [True, True, True, True, True, True],\n",
       "        [True, True, True, True, True, True],\n",
       "        [True, True, True, True, True, True],\n",
       "        [True, True, True, True, True, True],\n",
       "        [True, True, True, True, True, True],\n",
       "        [True, True, True, True, True, True],\n",
       "        [True, True, True, True, True, True],\n",
       "        [True, True, True, True, True, True],\n",
       "        [True, True, True, True, True, True],\n",
       "        [True, True, True, True, True, True],\n",
       "        [True, True, True, True, True, True],\n",
       "        [True, True, True, True, True, True],\n",
       "        [True, True, True, True, True, True],\n",
       "        [True, True, True, True, True, True],\n",
       "        [True, True, True, True, True, True],\n",
       "        [True, True, True, True, True, True],\n",
       "        [True, True, True, True, True, True],\n",
       "        [True, True, True, True, True, True],\n",
       "        [True, True, True, True, True, True],\n",
       "        [True, True, True, True, True, True],\n",
       "        [True, True, True, True, True, True],\n",
       "        [True, True, True, True, True, True],\n",
       "        [True, True, True, True, True, True],\n",
       "        [True, True, True, True, True, True],\n",
       "        [True, True, True, True, True, True],\n",
       "        [True, True, True, True, True, True],\n",
       "        [True, True, True, True, True, True],\n",
       "        [True, True, True, True, True, True],\n",
       "        [True, True, True, True, True, True],\n",
       "        [True, True, True, True, True, True]])"
      ]
     },
     "execution_count": 50,
     "metadata": {},
     "output_type": "execute_result"
    }
   ],
   "source": [
    "emb.view(32, 6) == torch.cat(torch.unbind(emb, 1), dim=1)"
   ]
  }
 ],
 "metadata": {
  "kernelspec": {
   "display_name": "Python 3 (ipykernel)",
   "language": "python",
   "name": "python3"
  },
  "language_info": {
   "codemirror_mode": {
    "name": "ipython",
    "version": 3
   },
   "file_extension": ".py",
   "mimetype": "text/x-python",
   "name": "python",
   "nbconvert_exporter": "python",
   "pygments_lexer": "ipython3",
   "version": "3.9.13"
  },
  "toc": {
   "base_numbering": 1,
   "nav_menu": {},
   "number_sections": false,
   "sideBar": true,
   "skip_h1_title": false,
   "title_cell": "Table of Contents",
   "title_sidebar": "Contents",
   "toc_cell": false,
   "toc_position": {
    "height": "calc(100% - 180px)",
    "left": "10px",
    "top": "150px",
    "width": "349.774px"
   },
   "toc_section_display": true,
   "toc_window_display": true
  }
 },
 "nbformat": 4,
 "nbformat_minor": 5
}
